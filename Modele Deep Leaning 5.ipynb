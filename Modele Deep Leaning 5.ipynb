{
 "cells": [
  {
   "cell_type": "code",
   "execution_count": 5,
   "metadata": {},
   "outputs": [
    {
     "name": "stdout",
     "output_type": "stream",
     "text": [
      "tensorflow version 2.4.1\n"
     ]
    }
   ],
   "source": [
    "import os\n",
    "import numpy as np\n",
    "import pandas as pd\n",
    "import seaborn as sns\n",
    "import matplotlib.pyplot as plt\n",
    "from sklearn.model_selection import train_test_split\n",
    "from sklearn.metrics import roc_curve, roc_auc_score, precision_score, recall_score, f1_score, accuracy_score, confusion_matrix\n",
    "\n",
    "import glob\n",
    "import cv2\n",
    "import random\n",
    "\n",
    "import tensorflow as tf\n",
    "\n",
    "#print versions\n",
    "print('tensorflow version',tf.__version__)"
   ]
  },
  {
   "cell_type": "code",
   "execution_count": 2,
   "metadata": {},
   "outputs": [],
   "source": [
    "labels = ['PNEUMONIA', 'NORMAL']\n",
    "img_size = 100\n",
    "def get_training_data(data_dir):\n",
    "    data = [] \n",
    "    for label in labels: \n",
    "        path = os.path.join(data_dir, label)\n",
    "        class_num = labels.index(label)\n",
    "        for img in os.listdir(path):\n",
    "            try:\n",
    "                img_arr = cv2.imread(os.path.join(path, img), cv2.IMREAD_GRAYSCALE)\n",
    "                resized_arr = cv2.resize(img_arr, (img_size, img_size)) # Reshaping images to preferred size\n",
    "                data.append([resized_arr, class_num])\n",
    "            except Exception as e:\n",
    "                print(e)\n",
    "    return np.array(data)"
   ]
  },
  {
   "cell_type": "code",
   "execution_count": 3,
   "metadata": {},
   "outputs": [
    {
     "name": "stderr",
     "output_type": "stream",
     "text": [
      "<ipython-input-2-09e907f57790>:15: VisibleDeprecationWarning: Creating an ndarray from ragged nested sequences (which is a list-or-tuple of lists-or-tuples-or ndarrays with different lengths or shapes) is deprecated. If you meant to do this, you must specify 'dtype=object' when creating the ndarray\n",
      "  return np.array(data)\n"
     ]
    }
   ],
   "source": [
    "train = get_training_data('C:/Users/Administrateur/OneDrive/Formation DATASCIENCE/Projet DATA SCIENCE/chest_xray/train')\n",
    "test = get_training_data('C:/Users/Administrateur/OneDrive/Formation DATASCIENCE/Projet DATA SCIENCE/chest_xray/test')\n",
    "val = get_training_data('C:/Users/Administrateur/OneDrive/Formation DATASCIENCE/Projet DATA SCIENCE/chest_xray/val')"
   ]
  },
  {
   "cell_type": "code",
   "execution_count": 7,
   "metadata": {},
   "outputs": [
    {
     "name": "stderr",
     "output_type": "stream",
     "text": [
      "C:\\ProgramData\\Anaconda3\\lib\\site-packages\\seaborn\\_decorators.py:36: FutureWarning: Pass the following variable as a keyword arg: x. From version 0.12, the only valid positional argument will be `data`, and passing other arguments without an explicit keyword will result in an error or misinterpretation.\n",
      "  warnings.warn(\n"
     ]
    },
    {
     "data": {
      "text/plain": [
       "<AxesSubplot:ylabel='count'>"
      ]
     },
     "execution_count": 7,
     "metadata": {},
     "output_type": "execute_result"
    },
    {
     "data": {
      "image/png": "[encoded data removed]",
      "text/plain": [
       "<Figure size 432x288 with 1 Axes>"
      ]
     },
     "metadata": {
      "needs_background": "light"
     },
     "output_type": "display_data"
    }
   ],
   "source": [
    "l = []\n",
    "for i in train:\n",
    "    if(i[1] == 0):\n",
    "        l.append(\"PNEUMONIA\")\n",
    "    else:\n",
    "        l.append(\"NORMAL\")\n",
    "        \n",
    "sns.countplot(l)"
   ]
  },
  {
   "cell_type": "code",
   "execution_count": 8,
   "metadata": {},
   "outputs": [],
   "source": [
    "X_train = []\n",
    "y_train = []\n",
    "\n",
    "X_val = []\n",
    "y_val = []\n",
    "\n",
    "X_test = []\n",
    "y_test = []\n",
    "\n",
    "for feature, label in train:\n",
    "    X_train.append(feature)\n",
    "    y_train.append(label)\n",
    "\n",
    "for feature, label in test:\n",
    "    X_test.append(feature)\n",
    "    y_test.append(label)\n",
    "    \n",
    "for feature, label in val:\n",
    "    X_val.append(feature)\n",
    "    y_val.append(label)"
   ]
  },
  {
   "cell_type": "code",
   "execution_count": 9,
   "metadata": {},
   "outputs": [],
   "source": [
    "X_train = np.array(X_train) / 255\n",
    "X_val = np.array(X_val) / 255\n",
    "X_test = np.array(X_test) / 255"
   ]
  },
  {
   "cell_type": "code",
   "execution_count": 11,
   "metadata": {},
   "outputs": [],
   "source": [
    "IMG_SIZE = 100\n",
    "X_train = X_train.reshape(-1, IMG_SIZE, IMG_SIZE, 1)\n",
    "y_train = np.array(y_train)\n",
    "\n",
    "X_val = X_val.reshape(-1, IMG_SIZE, IMG_SIZE, 1)\n",
    "y_val = np.array(y_val)\n",
    "\n",
    "X_test = X_test.reshape(-1, IMG_SIZE, IMG_SIZE, 1)\n",
    "y_test = np.array(y_test)"
   ]
  },
  {
   "cell_type": "code",
   "execution_count": 12,
   "metadata": {},
   "outputs": [],
   "source": [
    "import tensorflow as tf\n",
    "from tensorflow.keras.layers import Flatten, Conv2D, Activation, Dense, Dropout, MaxPooling2D\n",
    "from tensorflow.keras.models import Sequential"
   ]
  },
  {
   "cell_type": "code",
   "execution_count": 21,
   "metadata": {},
   "outputs": [
    {
     "name": "stdout",
     "output_type": "stream",
     "text": [
      "Epoch 1/50\n",
      "163/163 [==============================] - 44s 265ms/step - loss: 0.4625 - accuracy: 0.7913 - val_loss: 0.6121 - val_accuracy: 0.6875\n",
      "Epoch 2/50\n",
      "163/163 [==============================] - 45s 277ms/step - loss: 0.1155 - accuracy: 0.9574 - val_loss: 0.3322 - val_accuracy: 0.7500\n",
      "Epoch 3/50\n",
      "163/163 [==============================] - 45s 277ms/step - loss: 0.0921 - accuracy: 0.9663 - val_loss: 0.1235 - val_accuracy: 1.0000\n",
      "Epoch 4/50\n",
      "163/163 [==============================] - 44s 272ms/step - loss: 0.0747 - accuracy: 0.9762 - val_loss: 0.1963 - val_accuracy: 0.9375\n",
      "Epoch 5/50\n",
      "163/163 [==============================] - 47s 286ms/step - loss: 0.0592 - accuracy: 0.9769 - val_loss: 0.3140 - val_accuracy: 0.8125\n",
      "Epoch 6/50\n",
      "163/163 [==============================] - 44s 269ms/step - loss: 0.0677 - accuracy: 0.9774 - val_loss: 0.0321 - val_accuracy: 1.0000\n",
      "Epoch 7/50\n",
      "163/163 [==============================] - 45s 275ms/step - loss: 0.0498 - accuracy: 0.9832 - val_loss: 0.0705 - val_accuracy: 1.0000\n",
      "Epoch 8/50\n",
      "163/163 [==============================] - 47s 286ms/step - loss: 0.0647 - accuracy: 0.9735 - val_loss: 0.2062 - val_accuracy: 0.8125\n",
      "Epoch 9/50\n",
      "163/163 [==============================] - 44s 269ms/step - loss: 0.0345 - accuracy: 0.9869 - val_loss: 0.2054 - val_accuracy: 0.8125\n",
      "Epoch 10/50\n",
      "163/163 [==============================] - 46s 281ms/step - loss: 0.0360 - accuracy: 0.9867 - val_loss: 0.1684 - val_accuracy: 0.8750\n",
      "Epoch 11/50\n",
      "163/163 [==============================] - 45s 277ms/step - loss: 0.0374 - accuracy: 0.9875 - val_loss: 0.1283 - val_accuracy: 0.9375\n",
      "Epoch 12/50\n",
      "163/163 [==============================] - 44s 270ms/step - loss: 0.0300 - accuracy: 0.9891 - val_loss: 0.0641 - val_accuracy: 1.0000\n",
      "Epoch 13/50\n",
      "163/163 [==============================] - 47s 286ms/step - loss: 0.0288 - accuracy: 0.9883 - val_loss: 0.0883 - val_accuracy: 1.0000\n",
      "Epoch 14/50\n",
      "163/163 [==============================] - 46s 283ms/step - loss: 0.0224 - accuracy: 0.9904 - val_loss: 0.0623 - val_accuracy: 1.0000\n",
      "Epoch 15/50\n",
      "163/163 [==============================] - 45s 276ms/step - loss: 0.0235 - accuracy: 0.9930 - val_loss: 0.0465 - val_accuracy: 1.0000\n",
      "Epoch 16/50\n",
      "163/163 [==============================] - 47s 286ms/step - loss: 0.0189 - accuracy: 0.9927 - val_loss: 0.0045 - val_accuracy: 1.0000\n",
      "Epoch 17/50\n",
      "163/163 [==============================] - 44s 270ms/step - loss: 0.0097 - accuracy: 0.9978 - val_loss: 0.0432 - val_accuracy: 1.0000\n",
      "Epoch 18/50\n",
      "163/163 [==============================] - 46s 284ms/step - loss: 0.0147 - accuracy: 0.9952 - val_loss: 0.0573 - val_accuracy: 1.0000\n",
      "Epoch 19/50\n",
      "163/163 [==============================] - 45s 276ms/step - loss: 0.0189 - accuracy: 0.9926 - val_loss: 0.1228 - val_accuracy: 0.9375\n",
      "Epoch 20/50\n",
      "163/163 [==============================] - 44s 272ms/step - loss: 0.0137 - accuracy: 0.9942 - val_loss: 0.0428 - val_accuracy: 1.0000\n",
      "Epoch 21/50\n",
      "163/163 [==============================] - 47s 291ms/step - loss: 0.0127 - accuracy: 0.9963 - val_loss: 0.0137 - val_accuracy: 1.0000\n",
      "Epoch 22/50\n",
      "163/163 [==============================] - 44s 268ms/step - loss: 0.0073 - accuracy: 0.9976 - val_loss: 0.1780 - val_accuracy: 0.9375\n",
      "Epoch 23/50\n",
      "163/163 [==============================] - 45s 276ms/step - loss: 0.0116 - accuracy: 0.9963 - val_loss: 0.1858 - val_accuracy: 0.8750\n",
      "Epoch 24/50\n",
      "163/163 [==============================] - 49s 299ms/step - loss: 0.0105 - accuracy: 0.9959 - val_loss: 0.1807 - val_accuracy: 0.8750\n",
      "Epoch 25/50\n",
      "163/163 [==============================] - 49s 301ms/step - loss: 0.0096 - accuracy: 0.9971 - val_loss: 0.0133 - val_accuracy: 1.0000\n",
      "Epoch 26/50\n",
      "163/163 [==============================] - 53s 327ms/step - loss: 0.0080 - accuracy: 0.9972 - val_loss: 0.1673 - val_accuracy: 0.8750\n",
      "Epoch 27/50\n",
      "163/163 [==============================] - 51s 316ms/step - loss: 0.0101 - accuracy: 0.9969 - val_loss: 0.2223 - val_accuracy: 0.9375\n",
      "Epoch 28/50\n",
      "163/163 [==============================] - 52s 320ms/step - loss: 0.0068 - accuracy: 0.9982 - val_loss: 0.0044 - val_accuracy: 1.0000\n",
      "Epoch 29/50\n",
      "163/163 [==============================] - 52s 321ms/step - loss: 0.0071 - accuracy: 0.9977 - val_loss: 0.0826 - val_accuracy: 0.9375\n",
      "Epoch 30/50\n",
      "163/163 [==============================] - 55s 336ms/step - loss: 0.0053 - accuracy: 0.9982 - val_loss: 0.0130 - val_accuracy: 1.0000\n",
      "Epoch 31/50\n",
      "163/163 [==============================] - 57s 352ms/step - loss: 0.0143 - accuracy: 0.9944 - val_loss: 0.0119 - val_accuracy: 1.0000\n",
      "Epoch 32/50\n",
      "163/163 [==============================] - 54s 330ms/step - loss: 0.0067 - accuracy: 0.9972 - val_loss: 0.0037 - val_accuracy: 1.0000\n",
      "Epoch 33/50\n",
      "163/163 [==============================] - 54s 331ms/step - loss: 0.0066 - accuracy: 0.9973 - val_loss: 0.0121 - val_accuracy: 1.0000\n",
      "Epoch 34/50\n",
      "163/163 [==============================] - 52s 321ms/step - loss: 0.0057 - accuracy: 0.9981 - val_loss: 0.0029 - val_accuracy: 1.0000\n",
      "Epoch 35/50\n",
      "163/163 [==============================] - 54s 331ms/step - loss: 0.0039 - accuracy: 0.9988 - val_loss: 0.0156 - val_accuracy: 1.0000\n",
      "Epoch 36/50\n",
      "163/163 [==============================] - 52s 320ms/step - loss: 0.0017 - accuracy: 0.9994 - val_loss: 0.0151 - val_accuracy: 1.0000\n",
      "Epoch 37/50\n",
      "163/163 [==============================] - 53s 327ms/step - loss: 0.0043 - accuracy: 0.9981 - val_loss: 0.1835 - val_accuracy: 0.9375\n",
      "Epoch 38/50\n",
      "163/163 [==============================] - 55s 338ms/step - loss: 0.0184 - accuracy: 0.9936 - val_loss: 0.0132 - val_accuracy: 1.0000\n",
      "Epoch 39/50\n",
      "163/163 [==============================] - 54s 331ms/step - loss: 0.0130 - accuracy: 0.9948 - val_loss: 0.0030 - val_accuracy: 1.0000\n",
      "Epoch 40/50\n",
      "163/163 [==============================] - 55s 337ms/step - loss: 0.0031 - accuracy: 0.9983 - val_loss: 0.0117 - val_accuracy: 1.0000\n",
      "Epoch 41/50\n",
      "163/163 [==============================] - 54s 334ms/step - loss: 0.0048 - accuracy: 0.9983 - val_loss: 0.0202 - val_accuracy: 1.0000\n",
      "Epoch 42/50\n",
      "163/163 [==============================] - 56s 342ms/step - loss: 0.0049 - accuracy: 0.9980 - val_loss: 0.1781 - val_accuracy: 0.9375\n",
      "Epoch 43/50\n",
      "163/163 [==============================] - 47s 290ms/step - loss: 0.0065 - accuracy: 0.9971 - val_loss: 0.3680 - val_accuracy: 0.8125\n",
      "Epoch 44/50\n",
      "163/163 [==============================] - 56s 346ms/step - loss: 0.0029 - accuracy: 0.9985 - val_loss: 0.0012 - val_accuracy: 1.0000\n",
      "Epoch 45/50\n",
      "163/163 [==============================] - 53s 325ms/step - loss: 0.0040 - accuracy: 0.9986 - val_loss: 0.1162 - val_accuracy: 0.8750\n",
      "Epoch 46/50\n",
      "163/163 [==============================] - 53s 326ms/step - loss: 0.0072 - accuracy: 0.9981 - val_loss: 0.0508 - val_accuracy: 0.9375\n",
      "Epoch 47/50\n",
      "163/163 [==============================] - 55s 335ms/step - loss: 0.0026 - accuracy: 0.9992 - val_loss: 0.0114 - val_accuracy: 1.0000\n",
      "Epoch 48/50\n",
      "163/163 [==============================] - 50s 304ms/step - loss: 9.6768e-04 - accuracy: 1.0000 - val_loss: 0.0175 - val_accuracy: 1.0000\n",
      "Epoch 49/50\n",
      "163/163 [==============================] - 54s 333ms/step - loss: 0.0032 - accuracy: 0.9993 - val_loss: 0.2617 - val_accuracy: 0.9375\n",
      "Epoch 50/50\n",
      "163/163 [==============================] - 52s 317ms/step - loss: 0.0241 - accuracy: 0.9915 - val_loss: 0.1563 - val_accuracy: 0.9375\n",
      "20/20 [==============================] - 2s 74ms/step - loss: 2.1682 - accuracy: 0.7949\n",
      "INFO:tensorflow:Assets written to: cnn.model\\assets\n"
     ]
    }
   ],
   "source": [
    "model = Sequential()\n",
    "\n",
    "model.add(Conv2D(32, (3, 3), padding=\"same\", input_shape=X_train.shape[1:]))\n",
    "model.add(Activation(\"relu\"))\n",
    "model.add(MaxPooling2D(2, 2))\n",
    "model.add(Dropout(0.2))\n",
    "\n",
    "model.add(Conv2D(64, (3, 3), padding=\"same\"))\n",
    "model.add(Activation(\"relu\"))\n",
    "model.add(MaxPooling2D(2, 2))\n",
    "model.add(Dropout(0.2))\n",
    "\n",
    "model.add(Conv2D(128, (3, 3), padding=\"same\"))\n",
    "model.add(Activation(\"relu\"))\n",
    "model.add(MaxPooling2D(2, 2))\n",
    "model.add(Dropout(0.2))\n",
    "\n",
    "model.add(Flatten())\n",
    "model.add(Dense(128, activation=\"relu\"))\n",
    "\n",
    "model.add(Dense(1))\n",
    "model.add(Activation(\"sigmoid\"))\n",
    "\n",
    "model.compile(loss=\"binary_crossentropy\", optimizer=\"adam\", metrics=[\"accuracy\"])\n",
    "history = model.fit(X_train, y_train, epochs=50, validation_data=(X_val, y_val), shuffle=True)\n",
    "scores = model.evaluate(X_test, y_test)\n",
    "\n",
    "model.save(\"cnn.model\")"
   ]
  },
  {
   "cell_type": "code",
   "execution_count": 34,
   "metadata": {},
   "outputs": [
    {
     "name": "stdout",
     "output_type": "stream",
     "text": [
      "163/163 [==============================] - 47s 286ms/step - loss: 0.0063 - accuracy: 0.9979 - val_loss: 0.0701 - val_accuracy: 0.9375\n",
      "20/20 [==============================] - 1s 74ms/step - loss: 3.5942 - accuracy: 0.7628\n",
      "INFO:tensorflow:Assets written to: cnn.model\\assets\n"
     ]
    }
   ],
   "source": [
    "history = model.fit(X_train, y_train, epochs=1, validation_data=(X_val, y_val), shuffle=True)\n",
    "scores = model.evaluate(X_test, y_test)\n",
    "\n",
    "model.save(\"cnn.model\")"
   ]
  },
  {
   "cell_type": "code",
   "execution_count": null,
   "metadata": {},
   "outputs": [],
   "source": []
  },
  {
   "cell_type": "code",
   "execution_count": null,
   "metadata": {},
   "outputs": [],
   "source": []
  },
  {
   "cell_type": "code",
   "execution_count": null,
   "metadata": {},
   "outputs": [],
   "source": []
  },
  {
   "cell_type": "code",
   "execution_count": null,
   "metadata": {},
   "outputs": [],
   "source": []
  },
  {
   "cell_type": "code",
   "execution_count": 35,
   "metadata": {},
   "outputs": [
    {
     "name": "stdout",
     "output_type": "stream",
     "text": [
      "Test loss 3.594226837158203\n",
      "Test accuracy 0.7628205418586731\n"
     ]
    }
   ],
   "source": [
    "# scores\n",
    "print(\"Test loss {}\".format(scores[0]))\n",
    "print(\"Test accuracy {}\".format(scores[1]))"
   ]
  },
  {
   "cell_type": "code",
   "execution_count": 36,
   "metadata": {},
   "outputs": [
    {
     "data": {
      "image/png": "[encoded data removed]",
      "text/plain": [
       "<Figure size 432x288 with 1 Axes>"
      ]
     },
     "metadata": {
      "needs_background": "light"
     },
     "output_type": "display_data"
    },
    {
     "data": {
      "image/png": "[encoded data removed]",
      "text/plain": [
       "<Figure size 432x288 with 1 Axes>"
      ]
     },
     "metadata": {
      "needs_background": "light"
     },
     "output_type": "display_data"
    }
   ],
   "source": [
    "\n",
    "import matplotlib.pyplot as plt\n",
    "accuracy = history.history['accuracy']\n",
    "val_accuracy = history.history['val_accuracy']\n",
    "loss = history.history['loss']\n",
    "val_loss = history.history['val_loss']\n",
    "epochs = range(len(accuracy))\n",
    "\n",
    "plt.plot(epochs, accuracy, \"b\", label=\"trainning accuracy\")\n",
    "plt.plot(epochs, val_accuracy, \"r\", label=\"validation accuracy\")\n",
    "plt.legend()\n",
    "plt.show()\n",
    "\n",
    "plt.plot(epochs, loss, \"b\", label=\"trainning loss\")\n",
    "plt.plot(epochs, val_loss, \"r\", label=\"validation loss\")\n",
    "plt.legend()\n",
    "plt.show()"
   ]
  },
  {
   "cell_type": "code",
   "execution_count": 37,
   "metadata": {},
   "outputs": [
    {
     "name": "stderr",
     "output_type": "stream",
     "text": [
      "C:\\ProgramData\\Anaconda3\\lib\\site-packages\\tensorflow\\python\\keras\\engine\\sequential.py:450: UserWarning: `model.predict_classes()` is deprecated and will be removed after 2021-01-01. Please use instead:* `np.argmax(model.predict(x), axis=-1)`,   if your model does multi-class classification   (e.g. if it uses a `softmax` last-layer activation).* `(model.predict(x) > 0.5).astype(\"int32\")`,   if your model does binary classification   (e.g. if it uses a `sigmoid` last-layer activation).\n",
      "  warnings.warn('`model.predict_classes()` is deprecated and '\n"
     ]
    },
    {
     "data": {
      "text/plain": [
       "array([0, 0, 0, 0, 0, 0, 0, 0, 0, 0, 0, 0, 0, 0, 0])"
      ]
     },
     "execution_count": 37,
     "metadata": {},
     "output_type": "execute_result"
    }
   ],
   "source": [
    "\n",
    "prediction = model.predict_classes(X_test)\n",
    "prediction = prediction.reshape(1, -1)[0]\n",
    "prediction[:15]"
   ]
  },
  {
   "cell_type": "code",
   "execution_count": 25,
   "metadata": {},
   "outputs": [],
   "source": [
    "\n",
    "correct = np.nonzero(prediction == y_test)[0]\n",
    "incorrect = np.nonzero(prediction != y_test)[0]"
   ]
  },
  {
   "cell_type": "code",
   "execution_count": 38,
   "metadata": {},
   "outputs": [
    {
     "data": {
      "text/plain": [
       "array([0, 0, 0, 0, 0, 0, 0, 0, 0, 0, 0, 0, 0, 0, 0])"
      ]
     },
     "execution_count": 38,
     "metadata": {},
     "output_type": "execute_result"
    }
   ],
   "source": [
    "predictions = model.predict_classes(X_test)\n",
    "predictions = predictions.reshape(1,-1)[0]\n",
    "predictions[:15]"
   ]
  },
  {
   "cell_type": "code",
   "execution_count": 39,
   "metadata": {},
   "outputs": [
    {
     "data": {
      "text/plain": [
       "array([[388,   2],\n",
       "       [146,  88]], dtype=int64)"
      ]
     },
     "execution_count": 39,
     "metadata": {},
     "output_type": "execute_result"
    }
   ],
   "source": [
    "cm = confusion_matrix(y_test,predictions)\n",
    "cm"
   ]
  },
  {
   "cell_type": "code",
   "execution_count": null,
   "metadata": {},
   "outputs": [],
   "source": []
  }
 ],
 "metadata": {
  "kernelspec": {
   "display_name": "Python 3",
   "language": "python",
   "name": "python3"
  },
  "language_info": {
   "codemirror_mode": {
    "name": "ipython",
    "version": 3
   },
   "file_extension": ".py",
   "mimetype": "text/x-python",
   "name": "python",
   "nbconvert_exporter": "python",
   "pygments_lexer": "ipython3",
   "version": "3.8.5"
  }
 },
 "nbformat": 4,
 "nbformat_minor": 4
}
